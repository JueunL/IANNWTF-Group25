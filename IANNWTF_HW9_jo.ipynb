{
  "nbformat": 4,
  "nbformat_minor": 0,
  "metadata": {
    "colab": {
      "name": "IANNWTF - HW9",
      "provenance": [],
      "authorship_tag": "ABX9TyM4RB26xlDqMnGW1zcbtzhK",
      "include_colab_link": true
    },
    "kernelspec": {
      "name": "python3",
      "display_name": "Python 3"
    }
  },
  "cells": [
    {
      "cell_type": "markdown",
      "metadata": {
        "id": "view-in-github",
        "colab_type": "text"
      },
      "source": [
        "<a href=\"https://colab.research.google.com/github/JueunL/IANNWTF-Group25/blob/Workflow/IANNWTF_HW9_jo.ipynb\" target=\"_parent\"><img src=\"https://colab.research.google.com/assets/colab-badge.svg\" alt=\"Open In Colab\"/></a>"
      ]
    },
    {
      "cell_type": "code",
      "metadata": {
        "id": "BL-gp5nDYUQg"
      },
      "source": [
        "import numpy as np\n",
        "%tensorflow_version 2.x\n",
        "import tensorflow as tf\n",
        "import tensorflow_datasets as tfds\n",
        "import matplotlib.pyplot as plt\n",
        "from tensorflow.keras import layers\n",
        "from numpy.random import randint"
      ],
      "execution_count": 87,
      "outputs": []
    },
    {
      "cell_type": "markdown",
      "metadata": {
        "id": "DHko6YIYmWge"
      },
      "source": [
        "## Generator"
      ]
    },
    {
      "cell_type": "code",
      "metadata": {
        "id": "_a_oCeQrgDHu"
      },
      "source": [
        "# The number of samples to be used for creating the dataset\n",
        "NUM_SAMPLES = 100 # @param\n",
        "# Number of Context numbers\n",
        "LEN_CONTEXT = 2 # @param\n",
        "# Length of the Sequence where the context numbers are counted\n",
        "LEN_SEQUENCE = 23 # @param\n",
        "\n"
      ],
      "execution_count": 88,
      "outputs": []
    },
    {
      "cell_type": "code",
      "metadata": {
        "id": "g6vSEem_VaYr"
      },
      "source": [
        "def generate_samples(n=NUM_SAMPLES, len_seq=LEN_SEQUENCE, len_con=LEN_CONTEXT):\n",
        "  \"\"\" Generate samples for the \"count occurences\" excercise using a \n",
        "  generator.\n",
        "\n",
        "  Args:\n",
        "    n (int): Number of samples to generate\n",
        "    len_seq (int): Length of the Sequence where the context numbers are counted\n",
        "    len_con (int): Number of Context numbers\n",
        "\n",
        "  Returns:\n",
        "    (np.array): Array including the context numbers\n",
        "    (np.array): Array including the sequence\n",
        "    (np.array): Multi-Hot array signifying which context number\n",
        "                has the highest count in the sequence\n",
        "                (if there are context numbers that share the highest count\n",
        "                each will get a 1)\n",
        "  \"\"\"\n",
        "  num = 0\n",
        "  while num < n:\n",
        "    # Generate random sequence and context of specified lengths\n",
        "    sequence = randint(0,10,len_seq)\n",
        "    context = randint(0,10,len_con)\n",
        "\n",
        "    # Count how many instances of each context word were in the sequence\n",
        "    counts = [np.count_nonzero(sequence == c) for c in context]\n",
        "\n",
        "    # Create a multi-hot encoded list where only the context number(s) with the\n",
        "    # highest count are 1 (else 0)\n",
        "    counts_max = np.max(counts)\n",
        "    label = [int(c == counts_max) for c in counts]\n",
        "\n",
        "    # Yield the result to turn the function into a generator which saves RAM\n",
        "    yield context, sequence, np.array(label)\n",
        "    #yield np.concatenate((context, sequence)), np.array(label)\n",
        "\n",
        "    num += 1"
      ],
      "execution_count": 122,
      "outputs": []
    },
    {
      "cell_type": "code",
      "metadata": {
        "id": "8jl5smbSdQmu"
      },
      "source": [
        "# Generate a tensorflow dataset from the generator with a tensor for\n",
        "# context, sequence and label each\n",
        "data = tf.data.Dataset.from_generator(\n",
        "    generate_samples,\n",
        "    output_signature=(\n",
        "        tf.TensorSpec(shape=(LEN_CONTEXT), dtype=tf.int32),\n",
        "        tf.TensorSpec(shape=(LEN_SEQUENCE), dtype=tf.int32),\n",
        "        tf.TensorSpec(shape=(LEN_CONTEXT), dtype=tf.int32)\n",
        "    ))"
      ],
      "execution_count": 123,
      "outputs": []
    },
    {
      "cell_type": "code",
      "metadata": {
        "id": "0pmAGSZPqh3-"
      },
      "source": [
        ""
      ],
      "execution_count": null,
      "outputs": []
    }
  ]
}