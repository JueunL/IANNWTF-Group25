{
  "nbformat": 4,
  "nbformat_minor": 0,
  "metadata": {
    "colab": {
      "name": "HW_25_05_Vera.ipynb",
      "provenance": [],
      "authorship_tag": "ABX9TyNcfaET35N2KY0B6zMBgI1A",
      "include_colab_link": true
    },
    "kernelspec": {
      "name": "python3",
      "display_name": "Python 3"
    },
    "accelerator": "GPU"
  },
  "cells": [
    {
      "cell_type": "markdown",
      "metadata": {
        "id": "view-in-github",
        "colab_type": "text"
      },
      "source": [
        "<a href=\"https://colab.research.google.com/github/JueunL/IANNWTF-Group25/blob/main/HW_25_05_Vera.ipynb\" target=\"_parent\"><img src=\"https://colab.research.google.com/assets/colab-badge.svg\" alt=\"Open In Colab\"/></a>"
      ]
    },
    {
      "cell_type": "code",
      "metadata": {
        "id": "az7h81rMAa9U"
      },
      "source": [
        "import tensorflow as tf\n",
        "from tensorflow.keras import datasets, layers, models\n",
        "import matplotlib.pyplot as plt\n",
        "import numpy as np"
      ],
      "execution_count": null,
      "outputs": []
    },
    {
      "cell_type": "code",
      "metadata": {
        "id": "yh_nA85qAedu",
        "colab": {
          "base_uri": "https://localhost:8080/"
        },
        "outputId": "099bf730-5876-4e6d-9098-4201249a9fb1"
      },
      "source": [
        "(train_images, train_labels), (test_images, test_labels) = datasets.cifar10.load_data()\n",
        "train_images, test_images = train_images / 255.0, test_images / 255.0 "
      ],
      "execution_count": null,
      "outputs": [
        {
          "output_type": "stream",
          "text": [
            "Downloading data from https://www.cs.toronto.edu/~kriz/cifar-10-python.tar.gz\n",
            "170500096/170498071 [==============================] - 2s 0us/step\n"
          ],
          "name": "stdout"
        }
      ]
    },
    {
      "cell_type": "code",
      "metadata": {
        "id": "tnIWX3NHeye5",
        "colab": {
          "base_uri": "https://localhost:8080/"
        },
        "outputId": "946ed5e3-f5c5-4fb1-dcb0-2f936c2bd953"
      },
      "source": [
        "print(train_images.shape)\n",
        "print(train_labels.shape)\n",
        "print(test_images.shape)\n",
        "print(test_labels.shape)"
      ],
      "execution_count": null,
      "outputs": [
        {
          "output_type": "stream",
          "text": [
            "(50000, 32, 32, 3)\n",
            "(50000, 1)\n",
            "(10000, 32, 32, 3)\n",
            "(10000, 1)\n"
          ],
          "name": "stdout"
        }
      ]
    },
    {
      "cell_type": "code",
      "metadata": {
        "id": "ar0clU-7kMp7",
        "colab": {
          "base_uri": "https://localhost:8080/"
        },
        "outputId": "4ca3dd37-ee1d-4290-aaf6-24079f7be24b"
      },
      "source": [
        "train_labels = train_labels.reshape(-1,)\n",
        "print(train_labels[:10])"
      ],
      "execution_count": null,
      "outputs": [
        {
          "output_type": "stream",
          "text": [
            "[6 9 9 4 1 1 2 7 8 3]\n"
          ],
          "name": "stdout"
        }
      ]
    },
    {
      "cell_type": "code",
      "metadata": {
        "id": "61Vgg2hqkaa9",
        "colab": {
          "base_uri": "https://localhost:8080/",
          "height": 75
        },
        "outputId": "af62a870-0d5f-477c-ac50-5adc76865fdc"
      },
      "source": [
        "fig, ax = plt.subplots(1,10)\n",
        "for i in range(10):\n",
        "  img = train_images[i]\n",
        "  lbl = train_labels[i]\n",
        "\n",
        "  ax[i].imshow(img)\n",
        "  ax[i].set_title(lbl)\n",
        "  ax[i].axis(\"off\")"
      ],
      "execution_count": null,
      "outputs": [
        {
          "output_type": "display_data",
          "data": {
            "image/png": "[encoded data removed]",
            "text/plain": [
              "<Figure size 432x288 with 10 Axes>"
            ]
          },
          "metadata": {
            "tags": [],
            "needs_background": "light"
          }
        }
      ]
    },
    {
      "cell_type": "code",
      "metadata": {
        "id": "5r02taquDJDs",
        "colab": {
          "base_uri": "https://localhost:8080/"
        },
        "outputId": "96211fce-c4fb-4ff5-859d-29c920c0509d"
      },
      "source": [
        "train_dataset_images = tf.data.Dataset.from_tensor_slices(train_images)\n",
        "train_dataset_images = train_dataset_images.map(lambda img : tf.cast(img, tf.float32))\n",
        "\n",
        "train_dataset_targets = tf.data.Dataset.from_tensor_slices(train_labels)\n",
        "train_dataset_targets = train_dataset_targets.map(lambda t : tf.one_hot(t, 10, axis=0))\n",
        "print(train_dataset_images)\n",
        "\n",
        "train_dataset = tf.data.Dataset.zip((train_dataset_images, train_dataset_targets))\n",
        "train_dataset = train_dataset.batch(64)\n",
        "train_dataset = train_dataset.shuffle(buffer_size=64)\n",
        "print(train_dataset)\n",
        "\n",
        "test_dataset_images = tf.data.Dataset.from_tensor_slices(test_images)\n",
        "test_dataset_images = train_dataset_images.map(lambda img : tf.cast(img, tf.float32))\n",
        "print(test_dataset_images)\n",
        "\n",
        "test_dataset_targets = tf.data.Dataset.from_tensor_slices(test_labels)\n",
        "test_dataset_targets = test_dataset_targets.map(lambda t : tf.one_hot(t, 10, axis=0))\n",
        "\n",
        "test_dataset = tf.data.Dataset.zip((train_dataset_images, train_dataset_targets))\n",
        "test_dataset = train_dataset.batch(64)\n",
        "test_dataset = train_dataset.shuffle(buffer_size=64)\n",
        "print(test_dataset)"
      ],
      "execution_count": null,
      "outputs": [
        {
          "output_type": "stream",
          "text": [
            "<MapDataset shapes: (32, 32, 3), types: tf.float32>\n",
            "<ShuffleDataset shapes: ((None, 32, 32, 3), (None, 10)), types: (tf.float32, tf.float32)>\n",
            "<MapDataset shapes: (32, 32, 3), types: tf.float32>\n",
            "<ShuffleDataset shapes: ((None, 32, 32, 3), (None, 10)), types: (tf.float32, tf.float32)>\n"
          ],
          "name": "stdout"
        }
      ]
    },
    {
      "cell_type": "code",
      "metadata": {
        "id": "LcHaC-wRIUdb"
      },
      "source": [
        "from tensorflow.keras import Model\n",
        "from tensorflow.keras import layers\n",
        "from tensorflow.keras.layers import Layer\n",
        "\n",
        "class Model(Model):\n",
        "\n",
        "  def __init__(self):\n",
        "    super(Model, self).__init__()\n",
        "    self.layers_list = [\n",
        "                        layers.Conv2D(64, kernel_size=(3,3), activation='relu', padding='same', \n",
        "                                      kernel_regularizer=tf.keras.regularizers.l2, input_shape=(32,32,3)\n",
        "                                      ),\n",
        "                        layers.BatchNormalization(),\n",
        "                        layers.Conv2D(64, kernel_size=(3,3), activation='relu', padding='same', \n",
        "                                      kernel_regularizer=tf.keras.regularizers.l2\n",
        "                                      ),\n",
        "                        layers.BatchNormalization(),\n",
        "                        layers.MaxPooling2D(pool_size=(2,2)),\n",
        "                        layers.Dropout(0.20),\n",
        "\n",
        "                        layers.Conv2D(128, kernel_size=(3,3), activation='relu', padding='same', \n",
        "                                      kernel_regularizer=tf.keras.regularizers.l2\n",
        "                                      ),\n",
        "                        layers.BatchNormalization(),\n",
        "                        layers.Conv2D(128, kernel_size=(3,3), activation='relu', padding='same', \n",
        "                                      kernel_regularizer=tf.keras.regularizers.l2\n",
        "                                      ),\n",
        "                        layers.BatchNormalization(),\n",
        "                        layers.MaxPooling2D(pool_size=(2,2)),\n",
        "                        layers.Dropout(0.30),\n",
        "\n",
        "                        layers.Conv2D(256, kernel_size=(3,3), activation='relu', padding='same', \n",
        "                                      kernel_regularizer=tf.keras.regularizers.l2\n",
        "                                      ),\n",
        "                        layers.BatchNormalization(),\n",
        "                        layers.Conv2D(256, kernel_size=(3,3), activation='relu', padding='same', \n",
        "                                      kernel_regularizer=tf.keras.regularizers.l2\n",
        "                                      ),\n",
        "                        layers.BatchNormalization(),\n",
        "                        layers.MaxPooling2D(pool_size=(2,2)),\n",
        "                        layers.Dropout(0.40),\n",
        "\n",
        "                        layers.Flatten(),\n",
        "\n",
        "                        layers.Dense(1024, activation='relu', kernel_regularizer=tf.keras.regularizers.l2),\n",
        "                        layers.Dropout(0.30),\n",
        "\n",
        "                        layers.Dense(512, activation='relu', kernel_regularizer=tf.keras.regularizers.l2),\n",
        "                        layers.Dropout(0.20),\n",
        "\n",
        "                        layers.Dense(10, activation='softmax')\n",
        "                        ]\n",
        "\n",
        "  def call(self, x, training = True):\n",
        "    for layer in self.layers_list:\n",
        "      x = layer(x, training=training)\n",
        "    return x  "
      ],
      "execution_count": null,
      "outputs": []
    },
    {
      "cell_type": "code",
      "metadata": {
        "id": "VHOsv7fVLR03"
      },
      "source": [
        "def train_step(model, input, target, loss_function, optimizer):\n",
        "  with tf.GradientTape() as tape:\n",
        "    prediction = model(input, training=True)\n",
        "    loss = loss_function(target, prediction)\n",
        "    gradients = tape.gradient(loss, model.trainable_variables)\n",
        "  optimizer.apply_gradients(zip(gradients, model.trainable_variables))  \n",
        "  return loss\n",
        "\n",
        "def test(model, test_data, loss_function):\n",
        "  test_accuracy_aggregator = []\n",
        "  test_loss_aggregator = [] \n",
        "\n",
        "  for (input, target) in test_data:\n",
        "    prediction = model(input, training=False)\n",
        "    sample_test_loss = loss_function(target, prediction)\n",
        "    sample_test_accuracy =  np.argmax(target, axis=1) == np.argmax(prediction, axis=1)\n",
        "    sample_test_accuracy = np.mean(sample_test_accuracy)\n",
        "    test_loss_aggregator.append(sample_test_loss.numpy())\n",
        "    test_accuracy_aggregator.append(np.mean(sample_test_accuracy))\n",
        "\n",
        "  test_loss = np.mean(test_loss_aggregator)\n",
        "  test_accuracy = np.mean(test_accuracy_aggregator)\n",
        "\n",
        "  return test_loss, test_accuracy "
      ],
      "execution_count": null,
      "outputs": []
    },
    {
      "cell_type": "code",
      "metadata": {
        "id": "qe1-oNwIMZfR",
        "colab": {
          "base_uri": "https://localhost:8080/"
        },
        "outputId": "24ade2a9-c297-4d3e-d641-44d8a86b7a14"
      },
      "source": [
        "tf.keras.backend.clear_session()\n",
        "\n",
        "### Hyperparameters\n",
        "num_epochs = 30\n",
        "learning_rate = 0.001\n",
        "running_average_factor = 0.95\n",
        "\n",
        "# Initialize the model.\n",
        "model = Model()\n",
        "# Initialize the loss: categorical cross entropy. Check out 'tf.keras.losses'.\n",
        "cross_entropy_loss = tf.keras.losses.CategoricalCrossentropy()\n",
        "# Initialize the optimizer: Adam with default parameters. Check out 'tf.keras.optimizers'\n",
        "optimizer = tf.keras.optimizers.Adam(learning_rate)\n",
        "\n",
        "# Initialize lists for later visualization.\n",
        "train_losses = []\n",
        "\n",
        "test_losses = []\n",
        "test_accuracies = []\n",
        "\n",
        "#testing once before we begin\n",
        "test_loss, test_accuracy = test(model, test_dataset, cross_entropy_loss)\n",
        "test_losses.append(test_loss)\n",
        "test_accuracies.append(test_accuracy)\n",
        "\n",
        "#check how model performs on train data once before we begin\n",
        "train_loss, _ = test(model, train_dataset, cross_entropy_loss)\n",
        "train_losses.append(train_loss)\n",
        "\n",
        "# We train for num_epochs epochs.\n",
        "for epoch in range(num_epochs):\n",
        "    print('Epoch: __ ' + str(epoch))\n",
        "\n",
        "    train_dataset = train_dataset.shuffle(buffer_size=128)\n",
        "    test_dataset = test_dataset.shuffle(buffer_size=128)\n",
        "\n",
        "    #training (and checking in with training)\n",
        "    running_average = 0\n",
        "    for (input,target) in train_dataset:\n",
        "        train_loss = train_step(model, input, target, cross_entropy_loss, optimizer)\n",
        "        running_average = running_average_factor * running_average  + (1 - running_average_factor) * train_loss\n",
        "    train_losses.append(running_average)\n",
        "\n",
        "    #testing\n",
        "    test_loss, test_accuracy = test(model, test_dataset, cross_entropy_loss)\n",
        "    test_losses.append(test_loss)\n",
        "    test_accuracies.append(test_accuracy)"
      ],
      "execution_count": null,
      "outputs": [
        {
          "output_type": "stream",
          "text": [
            "Epoch: __ 0\n",
            "Epoch: __ 1\n",
            "Epoch: __ 2\n",
            "Epoch: __ 3\n",
            "Epoch: __ 4\n",
            "Epoch: __ 5\n",
            "Epoch: __ 6\n",
            "Epoch: __ 7\n",
            "Epoch: __ 8\n",
            "Epoch: __ 9\n",
            "Epoch: __ 10\n",
            "Epoch: __ 11\n",
            "Epoch: __ 12\n",
            "Epoch: __ 13\n",
            "Epoch: __ 14\n",
            "Epoch: __ 15\n",
            "Epoch: __ 16\n",
            "Epoch: __ 17\n",
            "Epoch: __ 18\n",
            "Epoch: __ 19\n",
            "Epoch: __ 20\n",
            "Epoch: __ 21\n",
            "Epoch: __ 22\n",
            "Epoch: __ 23\n",
            "Epoch: __ 24\n",
            "Epoch: __ 25\n",
            "Epoch: __ 26\n",
            "Epoch: __ 27\n",
            "Epoch: __ 28\n",
            "Epoch: __ 29\n"
          ],
          "name": "stdout"
        }
      ]
    },
    {
      "cell_type": "code",
      "metadata": {
        "id": "ditDfs5PN06d",
        "colab": {
          "base_uri": "https://localhost:8080/",
          "height": 557
        },
        "outputId": "8618f13b-6ded-4c58-e001-928abf0c3436"
      },
      "source": [
        "plt.figure()\n",
        "line1, = plt.plot(train_losses)\n",
        "line2, = plt.plot(test_losses)\n",
        "plt.xlabel(\"Training steps\")\n",
        "plt.ylabel(\"Loss\")\n",
        "plt.legend((line1,line2),(\"training\",\"test\"))\n",
        "plt.show()\n",
        "\n",
        "plt.figure()\n",
        "line1, = plt.plot(test_accuracies)\n",
        "plt.title('accuracy: '+ str(np.max(test_accuracies)))\n",
        "plt.xlabel(\"Training steps\")\n",
        "plt.ylabel(\"Accuracy\")\n",
        "plt.show()"
      ],
      "execution_count": null,
      "outputs": [
        {
          "output_type": "display_data",
          "data": {
            "image/png": "[encoded data removed]",
            "text/plain": [
              "<Figure size 432x288 with 1 Axes>"
            ]
          },
          "metadata": {
            "tags": [],
            "needs_background": "light"
          }
        },
        {
          "output_type": "display_data",
          "data": {
            "image/png": "[encoded data removed]",
            "text/plain": [
              "<Figure size 432x288 with 1 Axes>"
            ]
          },
          "metadata": {
            "tags": [],
            "needs_background": "light"
          }
        }
      ]
    }
  ]
}