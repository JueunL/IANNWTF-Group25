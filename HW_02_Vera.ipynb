{
 "cells": [
  {
   "cell_type": "code",
   "execution_count": 97,
   "metadata": {},
   "outputs": [],
   "source": [
    "import numpy as np\n",
    "import matplotlib.pyplot as plt"
   ]
  },
  {
   "cell_type": "code",
   "execution_count": 98,
   "metadata": {},
   "outputs": [],
   "source": [
    "# Data set consisting of inputs to logical gates and corresponding label(s).\n",
    "input = np.array([[0,0],[0,1],[1,0],[1,1]]) \n",
    "t_and = np.array([0,0,0,1])  \n",
    "#t_or = np.array([0,1,1,1])\n",
    "#t_nand = np.array([1,1,1,0])\n",
    "#t_nor = np.array([1,0,0,0])\n",
    "#t_xor = np.array([0,1,1,0])"
   ]
  },
  {
   "cell_type": "code",
   "execution_count": 99,
   "metadata": {},
   "outputs": [],
   "source": [
    "# Define a sigmoid activation function.\n",
    "def sigmoid(x):\n",
    "    return 1/(1+np.exp(-x))\n",
    "\n",
    "# Define a derivative of the sigmoid activation function.\n",
    "def sigmoidprime(x):\n",
    "    return sigmoid(x)*(1-sigmoid(x))"
   ]
  },
  {
   "cell_type": "code",
   "execution_count": 100,
   "metadata": {},
   "outputs": [],
   "source": [
    "class Perceptron:\n",
    "    \n",
    "    def __init__(self, input_units):\n",
    "        self.input_units = input_units\n",
    "        # Initialize random weights and a random bias term.\n",
    "        self.weights = np.random.randn(input_units)\n",
    "        self.bias = np.random.randn()\n",
    "        # Set learning rate to 0.5.\n",
    "        self.alpha = 0.5\n",
    "        \n",
    "    def forward_step(self, inputs):\n",
    "        self.inputs = inputs\n",
    "        # Calculate the drive (weighted sum) of the neuron.\n",
    "        self.drive = np.dot(inputs, self.weights) + self.bias\n",
    "        # Activate the neuron. \n",
    "        return sigmoid(self.drive)\n",
    "        \n",
    "    def update(self, error_signal):\n",
    "        # Update the parameters (weights and bias) of the perceptron.\n",
    "        # Compute gradients for weights and bias.\n",
    "        gradient_weights = error_signal * self.inputs\n",
    "        gradient_bias = error_signal\n",
    "        # Update weights and bias.\n",
    "        self.weights -=  self.alpha * gradient_weights\n",
    "        self.bias -= self.alpha * gradient_bias"
   ]
  },
  {
   "cell_type": "code",
   "execution_count": 101,
   "metadata": {},
   "outputs": [],
   "source": [
    "class MLP:\n",
    "        # Initialize MLP hidden layer that consists of 4 Perceptrons.\n",
    "    def __init__(self):\n",
    "        self.hidden_layer = [\n",
    "            Perceptron(2),\n",
    "            Perceptron(2),\n",
    "            Perceptron(2),\n",
    "            Perceptron(2)\n",
    "        ]\n",
    "        # Initialize the output neuron.\n",
    "        self.output_neuron = Perceptron(4)\n",
    "        # Initialize a variable to store the activation of the output neuron. \n",
    "        self.output = 0\n",
    "        \n",
    "    def forward_step(self, inputs):\n",
    "        # Calculate the drive and activations for the hidden layer.\n",
    "        hidden_l = np.array([p.forward_step(inputs) for p in self.hidden_layer])\n",
    "        # Reshape the resulting array to feed it to the output layer (output neuron).\n",
    "        hidden_l = np.reshape(hidden_l, newshape=(-1))\n",
    "        # Activation of the output neuron stored in self.output variable.\n",
    "        self.output = self.output_neuron.forward_step(hidden_l)\n",
    "        \n",
    "    def backprop_step(self, inputs, target):\n",
    "        # Error signal for the output layer.\n",
    "        output_error_signal = - (target - self.output) * sigmoidprime(self.output_neuron.drive)\n",
    "        # Update the parameters of the output neuron.\n",
    "        self.output_neuron.update(output_error_signal)\n",
    "        # Error signal for the hidden layer.\n",
    "        hidden_error_signal = [output_error_signal * sigmoidprime(p.drive) * self.output_neuron.weights[i] \n",
    "                         for i, p in enumerate(self.hidden_layer)]\n",
    "        # Update the parameters of the hidden layer.\n",
    "        for i,p in enumerate(self.hidden_layer):\n",
    "            p.update(hidden_error_signal[i])"
   ]
  },
  {
   "cell_type": "code",
   "execution_count": 102,
   "metadata": {},
   "outputs": [],
   "source": [
    "# Initialize MLP.\n",
    "mlp = MLP()\n",
    "# Initialize lists to store epochs, loss, accuracy.\n",
    "epochs=[]\n",
    "losses=[]\n",
    "accuracies=[]\n",
    "\n",
    "for i in range(1000):\n",
    "    epochs.append(i)\n",
    "    \n",
    "    accuracy = 0\n",
    "    loss = 0\n",
    "    \n",
    "    # Training.\n",
    "    for i in range(4):\n",
    "        x = input[i]\n",
    "        t = t_and[i]   \n",
    "        \n",
    "        mlp.forward_step(x)\n",
    "        \n",
    "        mlp.backprop_step(x,t)\n",
    "        \n",
    "        # Loss function for training (squared error), where t is a target\n",
    "        # and mlp.output is the activation of the output neuron.\n",
    "        loss += (t-mlp.output)**2\n",
    "        accuracy += int(float(mlp.output>=0.5) == t)\n",
    "        \n",
    "    accuracies.append(accuracy/4.0)\n",
    "    losses.append(loss)"
   ]
  },
  {
   "cell_type": "code",
   "execution_count": 103,
   "metadata": {},
   "outputs": [
    {
     "data": {
      "image/png": "[encoded data removed]",
      "text/plain": [
       "<Figure size 432x288 with 1 Axes>"
      ]
     },
     "metadata": {
      "needs_background": "light"
     },
     "output_type": "display_data"
    },
    {
     "data": {
      "image/png": "[encoded data removed]",
      "text/plain": [
       "<Figure size 432x288 with 1 Axes>"
      ]
     },
     "metadata": {
      "needs_background": "light"
     },
     "output_type": "display_data"
    }
   ],
   "source": [
    "plt.figure()\n",
    "plt.plot(epochs,losses)\n",
    "plt.xlabel(\"Epochs\")\n",
    "plt.ylabel(\"Loss\")\n",
    "plt.show()\n",
    "\n",
    "plt.figure()\n",
    "plt.plot(epochs,accuracies)\n",
    "plt.xlabel(\"Epochs\")\n",
    "plt.ylabel(\"Accuracy\")\n",
    "plt.show()"
   ]
  }
 ],
 "metadata": {
  "kernelspec": {
   "display_name": "Python 3",
   "language": "python",
   "name": "python3"
  },
  "language_info": {
   "codemirror_mode": {
    "name": "ipython",
    "version": 3
   },
   "file_extension": ".py",
   "mimetype": "text/x-python",
   "name": "python",
   "nbconvert_exporter": "python",
   "pygments_lexer": "ipython3",
   "version": "3.7.9"
  }
 },
 "nbformat": 4,
 "nbformat_minor": 4
}
