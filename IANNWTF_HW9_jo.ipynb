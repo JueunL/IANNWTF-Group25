{
  "nbformat": 4,
  "nbformat_minor": 0,
  "metadata": {
    "colab": {
      "name": "IANNWTF - HW9.ipynb",
      "provenance": [],
      "collapsed_sections": [
        "DHko6YIYmWge"
      ],
      "authorship_tag": "ABX9TyMDfEfK/e2asulmQbDUZ6/d",
      "include_colab_link": true
    },
    "kernelspec": {
      "name": "python3",
      "display_name": "Python 3"
    },
    "accelerator": "GPU"
  },
  "cells": [
    {
      "cell_type": "markdown",
      "metadata": {
        "id": "view-in-github",
        "colab_type": "text"
      },
      "source": [
        "<a href=\"https://colab.research.google.com/github/JueunL/IANNWTF-Group25/blob/Workflow/IANNWTF_HW9_jo.ipynb\" target=\"_parent\"><img src=\"https://colab.research.google.com/assets/colab-badge.svg\" alt=\"Open In Colab\"/></a>"
      ]
    },
    {
      "cell_type": "code",
      "metadata": {
        "id": "BL-gp5nDYUQg"
      },
      "source": [
        "import numpy as np\n",
        "%tensorflow_version 2.x\n",
        "import tensorflow as tf\n",
        "import tensorflow_datasets as tfds\n",
        "import matplotlib.pyplot as plt\n",
        "from tensorflow.keras import layers\n",
        "from numpy.random import randint\n",
        "from time import perf_counter"
      ],
      "execution_count": 333,
      "outputs": []
    },
    {
      "cell_type": "markdown",
      "metadata": {
        "id": "DHko6YIYmWge"
      },
      "source": [
        "## Generator"
      ]
    },
    {
      "cell_type": "code",
      "metadata": {
        "id": "g6vSEem_VaYr"
      },
      "source": [
        "def generate_samples(n, len_seq, len_con):\n",
        "  \"\"\" Generate samples for the \"count occurences\" excercise using a \n",
        "  generator.\n",
        "\n",
        "  Args:\n",
        "    n (int): Number of samples to generate\n",
        "    len_seq (int): Length of the Sequence where the context numbers are counted\n",
        "    len_con (int): Number of Context numbers\n",
        "\n",
        "  Returns:\n",
        "    (np.array): Array including the context numbers\n",
        "    (np.array): Array including the sequence\n",
        "    (np.array): Multi-Hot array showing which context number\n",
        "                has the highest count in the sequence\n",
        "                (if there are context numbers that share the highest count\n",
        "                each will get a 1)\n",
        "  \"\"\"\n",
        "  num = 0\n",
        "  while num <= n:\n",
        "    # Generate random sequence and context of specified lengths\n",
        "    sequence = randint(0,10,len_seq)\n",
        "    context = randint(0,10,len_con)\n",
        "\n",
        "    # Count how many instances of each context word were in the sequence\n",
        "    counts = [np.count_nonzero(sequence == c) for c in context]\n",
        "\n",
        "    # Create a multi-hot encoded list where only the context number(s) with the\n",
        "    # highest count are 1 (else 0)\n",
        "    counts_max = np.max(counts)\n",
        "    label = [int(c == counts_max) for c in counts]\n",
        "\n",
        "    # Yield the result to turn the function into a generator which saves RAM\n",
        "    #yield context, sequence, np.array(label)\n",
        "    len_sample = len_seq + len_con\n",
        "    yield np.concatenate((context, sequence)).reshape((len_sample, 1)), np.array(label).reshape((len_con, 1))\n",
        "\n",
        "    num += 1"
      ],
      "execution_count": 334,
      "outputs": []
    },
    {
      "cell_type": "markdown",
      "metadata": {
        "id": "j1w1vyPfkYst"
      },
      "source": [
        "## LSTM"
      ]
    },
    {
      "cell_type": "code",
      "metadata": {
        "id": "0pmAGSZPqh3-"
      },
      "source": [
        "class LSTM_cell(layers.Layer):\n",
        "  def __init__(self, x_len):\n",
        "    super(LSTM_cell, self).__init__()\n",
        "\n",
        "    self.x_len = x_len \n",
        "\n",
        "    # Utility layers without weights\n",
        "    self.concat = layers.Concatenate(axis=0)\n",
        "    self.multiply = layers.Multiply()\n",
        "    self.add = layers.Add()\n",
        "    self.tanh = layers.Activation(\"tanh\")\n",
        "\n",
        "    self.forget_gate = layers.Dense(1, activation=\"sigmoid\", bias_initializer=\"ones\")\n",
        "    self.input_gate = layers.Dense(1, activation=\"sigmoid\")\n",
        "    self.candidate_gate = layers.Dense(1, activation=\"tanh\")\n",
        "    self.output_gate = layers.Dense(1, activation=\"sigmoid\")\n",
        "\n",
        "\n",
        "  #@tf.function\n",
        "  def call(self, x, h, cs):\n",
        "    batch_size = tf.shape(x)[0]\n",
        "    # Combine the current input and the hidden state\n",
        "    h = self.concat([x,h])\n",
        "    h = tf.reshape(h, (batch_size, 2))\n",
        "    # Get the values of the forget gate and multiply the result with the cell state\n",
        "    # to forget/partially forget unimportant values\n",
        "    f = self.forget_gate(h)\n",
        "    cs = self.multiply([cs, f])\n",
        "    \n",
        "\n",
        "    # Select important candidates and values from all candidates\n",
        "    # Then add them and multiply the result with the cell state to get the\n",
        "    # final cell state for this timestep\n",
        "    i = self.input_gate(h)\n",
        "    c = self.candidate_gate(h)\n",
        "    cs = self.multiply([cs, self.add([i, c])])\n",
        "\n",
        "    # Select which values from the hidden state should be output and \n",
        "    # multiply the result with the tanh normalised cell state to get \n",
        "    # the final hidden state of this timestep\n",
        "    h = self.output_gate(h)\n",
        "    h = self.multiply([h, self.tanh(cs)])\n",
        "\n",
        "    return h, cs"
      ],
      "execution_count": 335,
      "outputs": []
    },
    {
      "cell_type": "code",
      "metadata": {
        "id": "CWM3EUUoSPni"
      },
      "source": [
        "class LSTM(tf.keras.Model):\n",
        "  def __init__(self, len_con, len_seq):\n",
        "    super(LSTM, self).__init__()\n",
        "\n",
        "    self.x_len = len_con + len_seq\n",
        "    \n",
        "    self.cells = [LSTM_cell(self.x_len) for _ in range(self.x_len)]\n",
        "    #self.cell = LSTM_cell(self.x_len)\n",
        "    self.out = layers.Dense(len_con, \"sigmoid\")\n",
        "\n",
        "  #@tf.function\n",
        "  def call(self, x):\n",
        "    batch_size = tf.shape(x)[0]\n",
        "    # randomly initialize hidden and cell state (is apparently better than zeroes/ones)\n",
        "    h = tf.random.uniform([batch_size,1], 0, 10, tf.float32)\n",
        "    cs = tf.random.uniform([batch_size,1], 0, 10, tf.float32)\n",
        "    for i in range(self.x_len):\n",
        "      h, cs = self.cells[i](x[:,i], h, cs)\n",
        "    #h, cs = self.cell(x, h, cs)\n",
        "    h = self.out(h)\n",
        "    return h\n"
      ],
      "execution_count": 336,
      "outputs": []
    },
    {
      "cell_type": "markdown",
      "metadata": {
        "id": "pzKR563LO79Y"
      },
      "source": [
        "\n",
        "## Training"
      ]
    },
    {
      "cell_type": "code",
      "metadata": {
        "id": "Zu7SGZi4uY2R"
      },
      "source": [
        "def acc_metric(target,output):\n",
        "  # Check how many samples have the same prediction and target value and take the\n",
        "  # mean which represents the accuracy\n",
        "  acc = np.argmax(target, axis=1) == np.argmax(output, axis=1)\n",
        "  acc = np.mean(acc)\n",
        " \n",
        "  return acc\n",
        "\n",
        "def train_step(model, input, target, loss_function, optimizer):\n",
        "  # Train the model using gradient tape and return the loss for visualisation\n",
        "  with tf.GradientTape() as tape:\n",
        "    prediction = model(input)\n",
        "    loss = loss_function(target, prediction)\n",
        "    gradients = tape.gradient(loss, model.trainable_variables)\n",
        "\n",
        "  optimizer.apply_gradients(zip(gradients, model.trainable_variables))\n",
        "\n",
        "  return loss \n",
        "\n",
        "def test(model, test_data, loss_function):\n",
        "  # Get loss and accuracy of a dataset\n",
        "  test_accuracy_aggregator = []\n",
        "  test_loss_aggregator = []\n",
        "\n",
        "  for (input, target) in test_data:\n",
        "    prediction = model(input)\n",
        "    sample_test_loss = loss_function(target, prediction)\n",
        "    sample_test_accuracy =  acc_metric(target, prediction)\n",
        "\n",
        "    test_loss_aggregator.append(sample_test_loss.numpy())\n",
        "    test_accuracy_aggregator.append(sample_test_accuracy)\n",
        "\n",
        "  test_loss = np.mean(test_loss_aggregator)\n",
        "  test_accuracy = np.mean(test_accuracy_aggregator)\n",
        "\n",
        "  return test_loss, test_accuracy\n",
        "\n",
        "def create_data(n, len_seq, len_con):\n",
        "  # Generate a tensorflow dataset from the generator with a tensor for\n",
        "  # context, sequence and label each\n",
        "  generator = lambda: generate_samples(n, len_seq, len_con)\n",
        "  data = tf.data.Dataset.from_generator(\n",
        "      generator,\n",
        "      output_signature=(\n",
        "          tf.TensorSpec(shape=(len_seq + len_con,1), dtype=tf.float32),\n",
        "          tf.TensorSpec(shape=(len_con,1), dtype=tf.float32)\n",
        "      ))\n",
        "  \n",
        "  return data.batch(batch_size=BATCH_SIZE)\n",
        "\n",
        "def train_model(num_epochs, data_train, data_test, learning_rate, model):\n",
        "  tf.keras.backend.clear_session()\n",
        "\n",
        "  running_average_factor = 0.95\n",
        "\n",
        "  # Initialise the loss function for training\n",
        "  # cross_entropy_loss = tf.keras.losses.BinaryCrossentropy(reduction=tf.keras.losses.Reduction.SUM_OVER_BATCH_SIZE)\n",
        "  cross_entropy_loss = tf.keras.losses.CategoricalCrossentropy(reduction=tf.keras.losses.Reduction.SUM_OVER_BATCH_SIZE)\n",
        "\n",
        "  optimizer = tf.keras.optimizers.Adam(learning_rate)\n",
        "\n",
        "  train_losses, test_losses, test_accuracies = [],[],[]\n",
        "\n",
        "  # Get the initial losses and the accuracy\n",
        "  start = perf_counter()\n",
        "  test_loss, test_accuracy = test(model, data_test, cross_entropy_loss)\n",
        "  test_losses.append(test_loss)\n",
        "  test_accuracies.append(test_accuracy)\n",
        "  train_loss, _ = test(model, data_train, cross_entropy_loss)\n",
        "  train_losses.append(train_loss)\n",
        "\n",
        "  print((f\"Init:\" + \" \" *(len(str(num_epochs)) + 3) + \" Accuracy: \" + \" \" * (4 - len(str(round(test_accuracy * 100, 0)))) + f\"{'{0:.3f}'.format(round(test_accuracy * 100, 3))}%,\"\n",
        "         f\"  Loss: (Train: {'{0:.3f}'.format(round(float(train_losses[-1]), 3))},\"\n",
        "         f\"  Test: {'{0:.3f}'.format(round(float(test_loss), 3))}),\"\n",
        "         f\"  Overfitting Indicator: {'{0:+.3f}'.format(round(float(test_losses[-1] - train_losses[-1]), 3))},\"\n",
        "         f\"  Time: {'{0:.2f}'.format(round(perf_counter() - start, 2))}s\"))\n",
        "\n",
        "\n",
        "  # TODO: What are these warnings??\n",
        "  tf.get_logger().setLevel(\"ERROR\")\n",
        "\n",
        "  # Train the model (record the time as well for performance judgements)\n",
        "  for epoch in range(1, num_epochs + 1):\n",
        "      start = perf_counter()\n",
        "\n",
        "      average = []\n",
        "      for (input,target) in data_train:\n",
        "          train_loss = train_step(model, input, target, cross_entropy_loss, optimizer)\n",
        "          average.append(train_loss)\n",
        "          \n",
        "      train_losses.append(np.mean(average))\n",
        "      \n",
        "      test_loss, test_accuracy = test(model, data_test, cross_entropy_loss)\n",
        "      test_losses.append(test_loss)\n",
        "      test_accuracies.append(test_accuracy)\n",
        "\n",
        "      print((f\"Epoch #{epoch}:\" + \" \" * (len(str(num_epochs)) - len(str(epoch))) +  f\" Accuracy: {'{0:.3f}'.format(round(test_accuracy * 100, 3))}%,\"\n",
        "             f\"  Loss: (Train: {'{0:.3f}'.format(round(float(train_losses[-1]), 3))},\"\n",
        "             f\"  Test: {'{0:.3f}'.format(round(float(test_loss), 3))}),\"\n",
        "             f\"  Overfitting Indicator: {'{0:+.3f}'.format(round(float(test_losses[-1] - train_losses[-1]), 3))},\"\n",
        "             f\"  Time: {'{0:.2f}'.format(round(perf_counter() - start, 2))}s\"))\n",
        "      \n",
        "  return train_losses, test_losses, test_accuracies\n",
        "\n",
        "def plot_learning(train_losses, test_losses, test_accuracies, num_epochs):\n",
        "  # draw the loss plot\n",
        "  line1, = plt.plot(train_losses)\n",
        "  line2, = plt.plot(test_losses)\n",
        "  plt.xlabel(\"Epochs\")\n",
        "  plt.ylabel(\"Loss\")\n",
        "  plt.legend((line1, line2), (\"training\", \"test\"))\n",
        "  plt.show()\n",
        "\n",
        "  # draw the accuracy plot\n",
        "  line1, = plt.plot(test_accuracies)\n",
        "  plt.xlabel(\"Epochs\")\n",
        "  plt.ylabel(\"Accuracy\")\n",
        "  plt.legend((line1), (\"test\"))\n",
        "  plt.show()"
      ],
      "execution_count": 340,
      "outputs": []
    },
    {
      "cell_type": "code",
      "metadata": {
        "id": "UJ1aBCnyL71_"
      },
      "source": [
        "# Number of Context numbers\n",
        "LEN_CONTEXT = 2 # @param\n",
        "\n",
        "# Length of the Sequence where the context numbers are counted\n",
        "LEN_SEQUENCE = 23 # @param\n",
        "\n",
        "BATCH_SIZE =  64# @param\n",
        "\n",
        "NUM_EPOCHS =  5# @param\n",
        "\n",
        "TRAIN_SAMPLES = 64000# @param\n",
        "\n",
        "TEST_SAMPLES = 6400# @param\n",
        "\n",
        "LEARNING_RATE = 0.01# @param"
      ],
      "execution_count": 338,
      "outputs": []
    },
    {
      "cell_type": "code",
      "metadata": {
        "colab": {
          "base_uri": "https://localhost:8080/",
          "height": 645
        },
        "id": "ku2L0GO7uo2V",
        "outputId": "f5bc0b43-45d7-4e97-e077-4bf7551ff2fd"
      },
      "source": [
        "data_train = create_data(10000, LEN_SEQUENCE, LEN_CONTEXT)\n",
        "data_test = create_data(1000, LEN_SEQUENCE, LEN_CONTEXT)\n",
        "\n",
        "model = LSTM(LEN_CONTEXT, LEN_SEQUENCE)\n",
        "trl, tel, tea = train_model(NUM_EPOCHS, data_train, data_test, LEARNING_RATE, model)\n",
        "plot_learning(trl, tel, tea, NUM_EPOCHS)"
      ],
      "execution_count": 339,
      "outputs": [
        {
          "output_type": "stream",
          "text": [
            "Init:     Accuracy: 63.643%,  Loss: (Train: 0.881,  Test: 0.890),  Overfitting Indicator: +0.008,  Time: 12.06s\n",
            "Epoch #1: Accuracy: 61.788%,  Loss: (Train: 0.877,  Test: 0.873),  Overfitting Indicator: -0.004,  Time: 23.28s\n",
            "Epoch #2: Accuracy: 36.345%,  Loss: (Train: 0.876,  Test: 0.886),  Overfitting Indicator: +0.009,  Time: 23.34s\n",
            "Epoch #3: Accuracy: 64.999%,  Loss: (Train: 0.882,  Test: 0.877),  Overfitting Indicator: -0.005,  Time: 23.69s\n",
            "Epoch #4: Accuracy: 35.240%,  Loss: (Train: 0.886,  Test: 0.900),  Overfitting Indicator: +0.014,  Time: 23.04s\n",
            "Epoch #5: Accuracy: 62.710%,  Loss: (Train: 0.882,  Test: 0.883),  Overfitting Indicator: +0.001,  Time: 23.11s\n"
          ],
          "name": "stdout"
        },
        {
          "output_type": "display_data",
          "data": {
            "image/png": "[encoded data removed]",
            "text/plain": [
              "<Figure size 432x288 with 1 Axes>"
            ]
          },
          "metadata": {
            "tags": [],
            "needs_background": "light"
          }
        },
        {
          "output_type": "display_data",
          "data": {
            "image/png": "[encoded data removed]",
            "text/plain": [
              "<Figure size 432x288 with 1 Axes>"
            ]
          },
          "metadata": {
            "tags": [],
            "needs_background": "light"
          }
        }
      ]
    },
    {
      "cell_type": "code",
      "metadata": {
        "id": "yAByophm04-f"
      },
      "source": [
        ""
      ],
      "execution_count": 339,
      "outputs": []
    }
  ]
}